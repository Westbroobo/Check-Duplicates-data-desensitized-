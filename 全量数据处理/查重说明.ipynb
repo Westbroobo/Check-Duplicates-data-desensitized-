{
 "cells": [
  {
   "cell_type": "markdown",
   "id": "bfacb5ca-284c-4718-99d0-eff73a49dff8",
   "metadata": {},
   "source": [
    "# <center>**查重说明**</center>"
   ]
  },
  {
   "cell_type": "markdown",
   "id": "670f34ce-1e1c-4e87-ad9b-2723186c619d",
   "metadata": {},
   "source": [
    "## **1.数据源逻辑**"
   ]
  },
  {
   "cell_type": "markdown",
   "id": "35686771-4408-4394-a344-ae5d6fd34eea",
   "metadata": {},
   "source": [
    "* 简单说明：以erp中PTSKU基础数据为准，补充eBay上oe数据，其中，erp数据及eBay数据每周更新，eBay数据由IT提供，由数据部处理。"
   ]
  },
  {
   "cell_type": "markdown",
   "id": "ec1adb96-80d1-4d5f-940e-959050418a66",
   "metadata": {},
   "source": [
    ">+ erp数据处理：剔除以“DEB”开头SKU；剔除供应商简称为“PA”部分；筛选采购状态为“是”且SKU状态为“Active”部分；商品分类中英文拆分；OE数据清洗。"
   ]
  },
  {
   "cell_type": "markdown",
   "id": "b796c9c9-14d3-4400-aa94-ac8b2e10f7b5",
   "metadata": {},
   "source": [
    ">+ ebay数据处理：解码IT提供数据，提取有效OE并清洗；剔除下架数据，更新上架数据；剔除sku中含“DEB-”部分。"
   ]
  },
  {
   "cell_type": "markdown",
   "id": "4b061cc5-5a1b-4675-9547-4184a7713202",
   "metadata": {},
   "source": [
    ">+ IT数据示例："
   ]
  },
  {
   "cell_type": "markdown",
   "id": "df44ae66-4742-48e1-a4f7-f209e06e51a3",
   "metadata": {},
   "source": [
    "<center><img src='./1.png'></center>"
   ]
  },
  {
   "cell_type": "markdown",
   "id": "9ea687db-7670-4727-ac9a-9a9c12624f37",
   "metadata": {},
   "source": [
    ">+ oe来源itemspecifics示例：\n",
    ">+ * a:1:{s:13:\"NameValueList\";a:10:{i:0;a:3:{s:4:\"Name\";s:5:\"Marca\";s:5:\"Value\";s:13:\"FEBI BILSTEIN\";s:6:\"Source\";s:12:\"ItemSpecific\";}i:1;a:3:{s:4:\"Name\";s:3:\"EAN\";s:5:\"Value\";s:13:\"4027816489221\";s:6:\"Source\";s:12:\"ItemSpecific\";}i:2;a:3:{s:4:\"Name\";s:17:\"Posición Montaje\";s:5:\"Value\";s:9:\"izquierda\";s:6:\"Source\";s:12:\"ItemSpecific\";}i:3;a:3:{s:4:\"Name\";s:9:\"Peso [kg]\";s:5:\"Value\";s:4:\"0,39\";s:6:\"Source\";s:12:\"ItemSpecific\";}i:4;a:3:{s:4:\"Name\";s:18:\"Unidad De Embalaje\";s:5:\"Value\";s:1:\"1\";s:6:\"Source\";s:12:\"ItemSpecific\";}i:5;a:3:{s:4:\"Name\";s:31:\"Número(s) de referencia OE/OEM\";s:5:\"Value\";s:55:\"415 266 00 00, 11220-5217R, A415 266 00 00, 11320-00Q0D\";s:6:\"Source\";s:12:\"ItemSpecific\";}i:6;a:3:{s:4:\"Name\";s:35:\"Código de artículo del fabricante\";s:5:\"Value\";s:14:\"48922, FE48922\";s:6:\"Source\";s:12:\"ItemSpecific\";}i:7;a:3:{s:4:\"Name\";s:16:\"Tipo De Cojinete\";s:5:\"Value\";s:22:\"Buje De Metal Y Caucho\";s:6:\"Source\";s:12:\"ItemSpecific\";}i:8;a:3:{s:4:\"Name\";s:33:\"Número(s) de referencia OE/OEM-2\";s:5:\"Value\";s:43:\"11 22 028 47R, 11 22 052 17R, 11 22 177 69R\";s:6:\"Source\";s:12:\"ItemSpecific\";}i:9;a:3:{s:4:\"Name\";s:4:\"Tipo\";s:5:\"Value\";s:36:\"Almacenamiento, transmisión manual.\";s:6:\"Source\";s:12:\"ItemSpecific\";}}}"
   ]
  },
  {
   "cell_type": "markdown",
   "id": "80871b60-f828-46e1-9c04-c003524a3c6a",
   "metadata": {},
   "source": [
    ">+ 最后以erp数据为准，将eBay数据匹配进erp数据表中，匹配字段：**中性SKU**（由原始SKU去前缀后缀得到）"
   ]
  },
  {
   "cell_type": "markdown",
   "id": "393760e9-0634-4880-83cd-c36f42fdc4e3",
   "metadata": {},
   "source": [
    "## **2.本次更新说明**"
   ]
  },
  {
   "cell_type": "markdown",
   "id": "b2978f24-0d15-4c9d-b942-d9840c6a0ab8",
   "metadata": {},
   "source": [
    "* 之前数据源会增加eBay数据以提高查重准确率，其中listingsku中含“DEB-”部分未剔除，其中性型号与系统中性型号相同则会进行补充，但发现存在部分非同一产品，目前已全部去除，不统计任何DEB产品OE。"
   ]
  },
  {
   "cell_type": "markdown",
   "id": "1fac5e6d-f89a-46dd-be98-bdebb3b3e246",
   "metadata": {},
   "source": [
    "## 3.注意事项"
   ]
  },
  {
   "cell_type": "markdown",
   "id": "a4a39c2d-2315-483b-ae59-020cac6e25c3",
   "metadata": {},
   "source": [
    ">+ 数据源较大，存在较多OE脏数据，而OE清洗逻辑固定，只能尽可能保证OE准确率\n",
    ">+ 原逻辑补充eBay数据时候含“DEB-”部分若中性型号相同也会进行补充，现已全部剔除，可能会漏补部分OE\n",
    ">+ 系统中少量SKU命名不规范，导致存在部分SKU中性型号相同，但产品不同，补充eBay数据时两个产品会同时补充，对于是否已开发的查重结果无影响，但可能输出错误已开发PTSKU\n",
    ">+ 若发现问题可及时反馈"
   ]
  }
 ],
 "metadata": {
  "kernelspec": {
   "display_name": "Python 3 (ipykernel)",
   "language": "python",
   "name": "python3"
  },
  "language_info": {
   "codemirror_mode": {
    "name": "ipython",
    "version": 3
   },
   "file_extension": ".py",
   "mimetype": "text/x-python",
   "name": "python",
   "nbconvert_exporter": "python",
   "pygments_lexer": "ipython3",
   "version": "3.12.4"
  }
 },
 "nbformat": 4,
 "nbformat_minor": 5
}
